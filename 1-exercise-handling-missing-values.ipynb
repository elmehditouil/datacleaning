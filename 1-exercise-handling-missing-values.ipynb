{
 "cells": [
  {
   "cell_type": "markdown",
   "metadata": {},
   "source": []
  },
  {
   "cell_type": "markdown",
   "metadata": {},
   "source": [
    "In this exercise, you'll apply what you learned in the **Handling missing values** tutorial.\n",
    "\n",
    "# Setup\n",
    "\n",
    "The questions below will give you feedback on your work. Run the following cell to set up the feedback system."
   ]
  },
  {
   "cell_type": "code",
   "execution_count": 33,
   "metadata": {
    "execution": {
     "iopub.execute_input": "2022-06-29T12:04:55.525344Z",
     "iopub.status.busy": "2022-06-29T12:04:55.524534Z",
     "iopub.status.idle": "2022-06-29T12:04:55.531669Z",
     "shell.execute_reply": "2022-06-29T12:04:55.530646Z",
     "shell.execute_reply.started": "2022-06-29T12:04:55.525300Z"
    }
   },
   "outputs": [],
   "source": [
    "from learntools.core import binder\n",
    "binder.bind(globals())\n",
    "from learntools.data_cleaning.ex1 imort *\n",
    "print(\"Setup Complete\")"
   ]
  },
  {
   "cell_type": "markdown",
   "metadata": {},
   "source": [
    "# 1) Take a first look at the data\n",
    "\n",
    "Run the next code cell to load in the libraries and dataset you'll use to complete the exercise."
   ]
  },
  {
   "cell_type": "code",
   "execution_count": 34,
   "metadata": {
    "execution": {
     "iopub.execute_input": "2022-06-29T12:04:55.679521Z",
     "iopub.status.busy": "2022-06-29T12:04:55.678751Z",
     "iopub.status.idle": "2022-06-29T12:04:57.351843Z",
     "shell.execute_reply": "2022-06-29T12:04:57.350676Z",
     "shell.execute_reply.started": "2022-06-29T12:04:55.679465Z"
    }
   },
   "outputs": [],
   "source": [
    "# modules we'll use\n",
    "import pandas as pd\n",
    "import numpy as np\n",
    "\n",
    "# read in all our data\n",
    "sf_permits = pd.read_csv(\"../input/building-permit-applications-data/Building_Permits.csv\")\n",
    "\n",
    "# set seed for reproducibility\n",
    "np.random.seed(0) "
   ]
  },
  {
   "cell_type": "markdown",
   "metadata": {},
   "source": [
    "Use the code cell below to print the first five rows of the `sf_permits` DataFrame."
   ]
  },
  {
   "cell_type": "code",
   "execution_count": 61,
   "metadata": {
    "execution": {
     "iopub.execute_input": "2022-06-29T12:19:22.890511Z",
     "iopub.status.busy": "2022-06-29T12:19:22.890147Z",
     "iopub.status.idle": "2022-06-29T12:19:22.924267Z",
     "shell.execute_reply": "2022-06-29T12:19:22.923095Z",
     "shell.execute_reply.started": "2022-06-29T12:19:22.890469Z"
    }
   },
   "outputs": [],
   "source": [
    "# TODO: Your code here!\n",
    "sf_permits.head()"
   ]
  },
  {
   "cell_type": "markdown",
   "metadata": {},
   "source": [
    "Does the dataset have any missing values?  Once you have an answer, run the code cell below to get credit for your work."
   ]
  },
  {
   "cell_type": "code",
   "execution_count": 36,
   "metadata": {
    "execution": {
     "iopub.execute_input": "2022-06-29T12:04:57.390092Z",
     "iopub.status.busy": "2022-06-29T12:04:57.389605Z",
     "iopub.status.idle": "2022-06-29T12:04:57.402928Z",
     "shell.execute_reply": "2022-06-29T12:04:57.401735Z",
     "shell.execute_reply.started": "2022-06-29T12:04:57.390044Z"
    }
   },
   "outputs": [],
   "source": [
    "# Check your answer (Run this code cell to receive credit!)\n",
    "q1.check()"
   ]
  },
  {
   "cell_type": "code",
   "execution_count": 37,
   "metadata": {
    "execution": {
     "iopub.execute_input": "2022-06-29T12:04:57.405891Z",
     "iopub.status.busy": "2022-06-29T12:04:57.405532Z",
     "iopub.status.idle": "2022-06-29T12:04:57.410875Z",
     "shell.execute_reply": "2022-06-29T12:04:57.410030Z",
     "shell.execute_reply.started": "2022-06-29T12:04:57.405837Z"
    }
   },
   "outputs": [],
   "source": [
    "# Line below will give you a hint\n",
    "# q1.hint()"
   ]
  },
  {
   "cell_type": "markdown",
   "metadata": {},
   "source": [
    "# 2) How many missing data points do we have?\n",
    "\n",
    "What percentage of the values in the dataset are missing?  Your answer should be a number between 0 and 100.  (If 1/4 of the values in the dataset are missing, the answer is 25.)"
   ]
  },
  {
   "cell_type": "code",
   "execution_count": 59,
   "metadata": {
    "execution": {
     "iopub.execute_input": "2022-06-29T12:15:57.609973Z",
     "iopub.status.busy": "2022-06-29T12:15:57.609531Z",
     "iopub.status.idle": "2022-06-29T12:15:58.110873Z",
     "shell.execute_reply": "2022-06-29T12:15:58.109783Z",
     "shell.execute_reply.started": "2022-06-29T12:15:57.609936Z"
    }
   },
   "outputs": [],
   "source": [
    "# TODO: Your code here!\n",
    "\n",
    "percent_missing = (sf_permits.isnull().sum().sum()/ np.product(sf_permits.shape))*100\n",
    "\n",
    "\n",
    "# Check your answer\n",
    "q2.check()"
   ]
  },
  {
   "cell_type": "code",
   "execution_count": 58,
   "metadata": {
    "execution": {
     "iopub.execute_input": "2022-06-29T12:14:04.316674Z",
     "iopub.status.busy": "2022-06-29T12:14:04.316301Z",
     "iopub.status.idle": "2022-06-29T12:14:04.325107Z",
     "shell.execute_reply": "2022-06-29T12:14:04.324170Z",
     "shell.execute_reply.started": "2022-06-29T12:14:04.316643Z"
    }
   },
   "outputs": [],
   "source": [
    "# Lines below will give you a hint or solution code\n",
    "# q2.hint()\n",
    "q2.solution()"
   ]
  },
  {
   "cell_type": "markdown",
   "metadata": {},
   "source": [
    "# 3) Figure out why the data is missing\n",
    "\n",
    "Look at the columns **\"Street Number Suffix\"** and **\"Zipcode\"** from the [San Francisco Building Permits dataset](https://www.kaggle.com/aparnashastry/building-permit-applications-data). Both of these contain missing values. \n",
    "- Which, if either, are missing because they don't exist? \n",
    "- Which, if either, are missing because they weren't recorded?  \n",
    "\n",
    "Once you have an answer, run the code cell below."
   ]
  },
  {
   "cell_type": "code",
   "execution_count": 40,
   "metadata": {
    "execution": {
     "iopub.execute_input": "2022-06-29T12:04:57.527573Z",
     "iopub.status.busy": "2022-06-29T12:04:57.527164Z",
     "iopub.status.idle": "2022-06-29T12:04:57.542669Z",
     "shell.execute_reply": "2022-06-29T12:04:57.541619Z",
     "shell.execute_reply.started": "2022-06-29T12:04:57.527534Z"
    }
   },
   "outputs": [],
   "source": [
    "# Check your answer (Run this code cell to receive credit!)\n",
    "q3.check()"
   ]
  },
  {
   "cell_type": "code",
   "execution_count": 41,
   "metadata": {
    "execution": {
     "iopub.execute_input": "2022-06-29T12:04:57.544350Z",
     "iopub.status.busy": "2022-06-29T12:04:57.543684Z",
     "iopub.status.idle": "2022-06-29T12:04:57.552227Z",
     "shell.execute_reply": "2022-06-29T12:04:57.550918Z",
     "shell.execute_reply.started": "2022-06-29T12:04:57.544308Z"
    }
   },
   "outputs": [],
   "source": [
    "# Line below will give you a hint\n",
    "#q3.hint()"
   ]
  },
  {
   "cell_type": "markdown",
   "metadata": {},
   "source": [
    "# 4) Drop missing values: rows\n",
    "\n",
    "If you removed all of the rows of `sf_permits` with missing values, how many rows are left?\n",
    "\n",
    "**Note**: Do not change the value of `sf_permits` when checking this.  "
   ]
  },
  {
   "cell_type": "code",
   "execution_count": 65,
   "metadata": {
    "execution": {
     "iopub.execute_input": "2022-06-29T12:21:32.156841Z",
     "iopub.status.busy": "2022-06-29T12:21:32.156409Z",
     "iopub.status.idle": "2022-06-29T12:21:32.675275Z",
     "shell.execute_reply": "2022-06-29T12:21:32.673948Z",
     "shell.execute_reply.started": "2022-06-29T12:21:32.156804Z"
    }
   },
   "outputs": [],
   "source": [
    "# TODO: Your code here!\n",
    "df=sf_permits.dropna()\n",
    "df\n"
   ]
  },
  {
   "cell_type": "markdown",
   "metadata": {},
   "source": [
    "Once you have an answer, run the code cell below."
   ]
  },
  {
   "cell_type": "code",
   "execution_count": 43,
   "metadata": {
    "execution": {
     "iopub.execute_input": "2022-06-29T12:04:57.569955Z",
     "iopub.status.busy": "2022-06-29T12:04:57.569006Z",
     "iopub.status.idle": "2022-06-29T12:04:57.581245Z",
     "shell.execute_reply": "2022-06-29T12:04:57.580079Z",
     "shell.execute_reply.started": "2022-06-29T12:04:57.569909Z"
    }
   },
   "outputs": [],
   "source": [
    "# Check your answer (Run this code cell to receive credit!)\n",
    "q4.check()"
   ]
  },
  {
   "cell_type": "code",
   "execution_count": 44,
   "metadata": {
    "execution": {
     "iopub.execute_input": "2022-06-29T12:04:57.584025Z",
     "iopub.status.busy": "2022-06-29T12:04:57.582787Z",
     "iopub.status.idle": "2022-06-29T12:04:57.593952Z",
     "shell.execute_reply": "2022-06-29T12:04:57.593042Z",
     "shell.execute_reply.started": "2022-06-29T12:04:57.583975Z"
    }
   },
   "outputs": [],
   "source": [
    "# Line below will give you a hint\n",
    "#q4.hint()"
   ]
  },
  {
   "cell_type": "markdown",
   "metadata": {},
   "source": [
    "# 5) Drop missing values: columns\n",
    "\n",
    "Now try removing all the columns with empty values.  \n",
    "- Create a new DataFrame called `sf_permits_with_na_dropped` that has all of the columns with empty values removed.  \n",
    "- How many columns were removed from the original `sf_permits` DataFrame? Use this number to set the value of the `dropped_columns` variable below."
   ]
  },
  {
   "cell_type": "code",
   "execution_count": 79,
   "metadata": {
    "execution": {
     "iopub.execute_input": "2022-06-29T12:34:38.826527Z",
     "iopub.status.busy": "2022-06-29T12:34:38.826085Z",
     "iopub.status.idle": "2022-06-29T12:34:39.344964Z",
     "shell.execute_reply": "2022-06-29T12:34:39.343400Z",
     "shell.execute_reply.started": "2022-06-29T12:34:38.826487Z"
    }
   },
   "outputs": [],
   "source": [
    "# TODO: Your code here\n",
    "sf_permits_with_na_dropped = sf_permits.dropna(axis=1)\n",
    "\n",
    "dropped_columns = sf_permits.shape[1]- sf_permits_with_na_dropped.shape[1]\n",
    "\n",
    "# Check your answer\n",
    "q5.check()"
   ]
  },
  {
   "cell_type": "code",
   "execution_count": 76,
   "metadata": {
    "execution": {
     "iopub.execute_input": "2022-06-29T12:29:21.300415Z",
     "iopub.status.busy": "2022-06-29T12:29:21.300022Z",
     "iopub.status.idle": "2022-06-29T12:29:21.308524Z",
     "shell.execute_reply": "2022-06-29T12:29:21.307751Z",
     "shell.execute_reply.started": "2022-06-29T12:29:21.300382Z"
    }
   },
   "outputs": [],
   "source": [
    "# Lines below will give you a hint or solution code\n",
    "# q5.hint()\n",
    "#q5.solution()"
   ]
  },
  {
   "cell_type": "markdown",
   "metadata": {},
   "source": [
    "# 6) Fill in missing values automatically\n",
    "\n",
    "Try replacing all the NaN's in the `sf_permits` data with the one that comes directly after it and then replacing any remaining NaN's with 0.  Set the result to a new DataFrame `sf_permits_with_na_imputed`."
   ]
  },
  {
   "cell_type": "code",
   "execution_count": 80,
   "metadata": {
    "execution": {
     "iopub.execute_input": "2022-06-29T12:39:35.795936Z",
     "iopub.status.busy": "2022-06-29T12:39:35.795527Z",
     "iopub.status.idle": "2022-06-29T12:39:37.281778Z",
     "shell.execute_reply": "2022-06-29T12:39:37.280717Z",
     "shell.execute_reply.started": "2022-06-29T12:39:35.795900Z"
    }
   },
   "outputs": [],
   "source": [
    "# TODO: Your code here\n",
    "sf_permits_with_na_imputed = sf_permits.fillna(method='bfill', axis=0).fillna(0)\n",
    "\n",
    "# Check your answer\n",
    "q6.check()"
   ]
  },
  {
   "cell_type": "code",
   "execution_count": 48,
   "metadata": {
    "execution": {
     "iopub.execute_input": "2022-06-29T12:04:57.638869Z",
     "iopub.status.busy": "2022-06-29T12:04:57.638005Z",
     "iopub.status.idle": "2022-06-29T12:04:57.644802Z",
     "shell.execute_reply": "2022-06-29T12:04:57.643834Z",
     "shell.execute_reply.started": "2022-06-29T12:04:57.638805Z"
    }
   },
   "outputs": [],
   "source": [
    "# Lines below will give you a hint or solution code\n",
    "#q6.hint()\n",
    "#q6.solution()"
   ]
  },
  {
   "cell_type": "markdown",
   "metadata": {},
   "source": [
    "# More practice\n",
    "\n",
    "If you're looking for more practice handling missing values:\n",
    "\n",
    "* Check out [this noteboook](https://www.kaggle.com/alexisbcook/missing-values) on handling missing values using scikit-learn's imputer. \n",
    "* Look back at the \"Zipcode\" column in the `sf_permits` dataset, which has some missing values. How would you go about figuring out what the actual zipcode of each address should be? (You might try using another dataset. You can search for datasets about San Fransisco on the [Datasets listing](https://www.kaggle.com/datasets).) \n",
    "\n",
    "# Keep going\n",
    "\n",
    "In the next lesson, learn how to [**apply scaling and normalization**](https://www.kaggle.com/alexisbcook/scaling-and-normalization) to transform your data."
   ]
  },
  {
   "cell_type": "markdown",
   "metadata": {},
   "source": [
    "---\n",
    "\n",
    "\n",
    "\n",
    "\n",
    "*Have questions or comments? Visit the [course discussion forum](https://www.kaggle.com/learn/data-cleaning/discussion) to chat with other learners.*"
   ]
  }
 ],
 "metadata": {
  "kernelspec": {
   "display_name": "Python 3 (ipykernel)",
   "language": "python",
   "name": "python3"
  },
  "language_info": {
   "codemirror_mode": {
    "name": "ipython",
    "version": 3
   },
   "file_extension": ".py",
   "mimetype": "text/x-python",
   "name": "python",
   "nbconvert_exporter": "python",
   "pygments_lexer": "ipython3",
   "version": "3.9.12"
  }
 },
 "nbformat": 4,
 "nbformat_minor": 4
}
